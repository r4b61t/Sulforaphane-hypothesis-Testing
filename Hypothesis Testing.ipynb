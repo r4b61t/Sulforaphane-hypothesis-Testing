{
 "cells": [
  {
   "cell_type": "code",
   "execution_count": 1,
   "id": "c387fd26",
   "metadata": {},
   "outputs": [],
   "source": [
    "import numpy as np\n",
    "from scipy.stats import ttest_ind\n",
    "import pandas as pd"
   ]
  },
  {
   "cell_type": "markdown",
   "id": "3f2069b7",
   "metadata": {},
   "source": [
    "## Collagen\n",
    "Control(noUVA) vs Control(UVA)\n",
    "\n",
    "Change in collagen expression\n",
    "- Sham vs SFN\n",
    "- Vehical vs SFN-NPs"
   ]
  },
  {
   "cell_type": "code",
   "execution_count": 2,
   "id": "5be81d3d",
   "metadata": {},
   "outputs": [],
   "source": [
    "df = pd.read_csv('Collagen.csv',delimiter =\",\")\n",
    "df = df.dropna()\n",
    "NoUVA = df[df.index<23].to_numpy()\n",
    "WithUVA = df[df.index>22].to_numpy()"
   ]
  },
  {
   "cell_type": "code",
   "execution_count": 3,
   "id": "08eb482a",
   "metadata": {},
   "outputs": [],
   "source": [
    "PercentangeChange = (WithUVA - NoUVA )/NoUVA * 100\n",
    "ControlNoUVA = NoUVA[:,0]\n",
    "ControlWithUVA = WithUVA[:,0]\n",
    "SHAMChange = PercentangeChange[:,1]\n",
    "VehicalChange = PercentangeChange[:,2]\n",
    "SFNChange = PercentangeChange[:,3]\n",
    "SFN_NPsChange = PercentangeChange[:,4]"
   ]
  },
  {
   "cell_type": "code",
   "execution_count": 4,
   "id": "53ce6b2e",
   "metadata": {},
   "outputs": [
    {
     "name": "stdout",
     "output_type": "stream",
     "text": [
      "Mean: 1.0 --> 0.64297 , pvalue 1.5003718532818972e-13\n"
     ]
    }
   ],
   "source": [
    "print(f'Mean: {ControlNoUVA.mean()} --> {ControlWithUVA.mean()} , pvalue {ttest_ind(ControlNoUVA,ControlWithUVA).pvalue}') "
   ]
  },
  {
   "cell_type": "code",
   "execution_count": 5,
   "id": "fc23e1d2",
   "metadata": {},
   "outputs": [
    {
     "name": "stdout",
     "output_type": "stream",
     "text": [
      "Mean: -44.08537321690737% vs -24.484077805338497% , pvalue 2.8101261935029518e-05\n"
     ]
    }
   ],
   "source": [
    "print(f'Mean: {SHAMChange.mean()}% vs {SFNChange.mean()}% , pvalue {ttest_ind(SHAMChange,SFNChange).pvalue}') "
   ]
  },
  {
   "cell_type": "code",
   "execution_count": 6,
   "id": "d5436db4",
   "metadata": {},
   "outputs": [
    {
     "name": "stdout",
     "output_type": "stream",
     "text": [
      "Mean: -42.89371301720222% vs -14.06903914795007% , pvalue 3.481769783786503e-07\n"
     ]
    }
   ],
   "source": [
    "print(f'Mean: {VehicalChange.mean()}% vs {SFN_NPsChange.mean()}% , pvalue {ttest_ind(VehicalChange,SFN_NPsChange).pvalue}') "
   ]
  },
  {
   "attachments": {},
   "cell_type": "markdown",
   "id": "1efd6633",
   "metadata": {},
   "source": [
    "## MMP-1"
   ]
  },
  {
   "cell_type": "code",
   "execution_count": 7,
   "id": "f7293a87",
   "metadata": {},
   "outputs": [],
   "source": [
    "df2 = pd.read_csv('MMP1.csv',delimiter =\",\")\n",
    "df2 = df2.dropna()\n",
    "NoUVA2 = df2[df2.index<23].to_numpy()\n",
    "WithUVA2 = df2[df2.index>22].to_numpy()"
   ]
  },
  {
   "cell_type": "code",
   "execution_count": 8,
   "id": "049d0bd6",
   "metadata": {},
   "outputs": [],
   "source": [
    "PercentangeChange2 = (WithUVA2-NoUVA2)/NoUVA2 * 100\n",
    "ControlNoUVA2 = NoUVA2[:,0]\n",
    "ControlWithUVA2 = WithUVA2[:,0]\n",
    "SHAMChange2 = PercentangeChange2[:,1]\n",
    "VehicalChange2 = PercentangeChange2[:,2]\n",
    "SFNChange2 = PercentangeChange2[:,3]\n",
    "SFN_NPsChange2 = PercentangeChange2[:,4]"
   ]
  },
  {
   "cell_type": "code",
   "execution_count": 9,
   "id": "0a6cce2a",
   "metadata": {},
   "outputs": [
    {
     "name": "stdout",
     "output_type": "stream",
     "text": [
      "Mean: 0.9999999999500003 --> 2.50157021905 , pvalue 1.0286884337526467e-14\n"
     ]
    }
   ],
   "source": [
    "print(f'Mean: {ControlNoUVA2.mean()} --> {ControlWithUVA2.mean()} , pvalue {ttest_ind(ControlNoUVA2,ControlWithUVA2).pvalue}') "
   ]
  },
  {
   "cell_type": "code",
   "execution_count": 10,
   "id": "9bfdd1c9",
   "metadata": {},
   "outputs": [
    {
     "name": "stdout",
     "output_type": "stream",
     "text": [
      "Mean: 125.6521835921455% vs 77.82571190952714% , pvalue 0.009593471856042925\n"
     ]
    }
   ],
   "source": [
    "print(f'Mean: {SHAMChange2.mean()}% vs {SFNChange2.mean()}% , pvalue {ttest_ind(SHAMChange2,SFNChange2).pvalue}') "
   ]
  },
  {
   "cell_type": "code",
   "execution_count": 11,
   "id": "2b97f85e",
   "metadata": {
    "scrolled": true
   },
   "outputs": [
    {
     "name": "stdout",
     "output_type": "stream",
     "text": [
      "Mean: 96.73838167915052% vs 29.24136240673638% , pvalue 4.916434063594374e-06\n"
     ]
    }
   ],
   "source": [
    "print(f'Mean: {VehicalChange2.mean()}% vs {SFN_NPsChange2.mean()}% , pvalue {ttest_ind(VehicalChange2,SFN_NPsChange2).pvalue}') "
   ]
  },
  {
   "cell_type": "markdown",
   "id": "c768eec3",
   "metadata": {},
   "source": [
    "## Thickness"
   ]
  },
  {
   "cell_type": "code",
   "execution_count": 17,
   "id": "c3e0ff5a",
   "metadata": {},
   "outputs": [],
   "source": [
    "df3 = pd.read_csv('Thickness.csv',delimiter =\",\")\n",
    "df3 = df3.dropna()\n",
    "NoUVA3 = df3[df3.index<23].to_numpy()\n",
    "WithUVA3 = df3[df3.index>22].to_numpy()"
   ]
  },
  {
   "cell_type": "code",
   "execution_count": 18,
   "id": "9f456684",
   "metadata": {},
   "outputs": [],
   "source": [
    "PercentangeChange3 = (WithUVA3-NoUVA3)/NoUVA3 * 100\n",
    "ControlNoUVA3 = NoUVA3[:,0]\n",
    "ControlWithUVA3 = WithUVA3[:,0]\n",
    "SHAMChange3 = PercentangeChange3[:,1]\n",
    "VehicalChange3 = PercentangeChange3[:,2]\n",
    "SFNChange3 = PercentangeChange3[:,3]\n",
    "SFN_NPsChange3 = PercentangeChange3[:,4]"
   ]
  },
  {
   "cell_type": "code",
   "execution_count": 19,
   "id": "ab2b90c9",
   "metadata": {},
   "outputs": [
    {
     "name": "stdout",
     "output_type": "stream",
     "text": [
      "Mean: 10.238899999999997 --> 18.45955 , pvalue 2.5895659938366864e-25\n"
     ]
    }
   ],
   "source": [
    "print(f'Mean: {ControlNoUVA3.mean()} --> {ControlWithUVA3.mean()} , pvalue {ttest_ind(ControlNoUVA3,ControlWithUVA3).pvalue}') "
   ]
  },
  {
   "cell_type": "code",
   "execution_count": 20,
   "id": "5486fc5d",
   "metadata": {},
   "outputs": [
    {
     "name": "stdout",
     "output_type": "stream",
     "text": [
      "Mean: 68.35061501352585% vs -3.019762569687901% , pvalue 1.9867787666820783e-17\n"
     ]
    }
   ],
   "source": [
    "print(f'Mean: {SHAMChange3.mean()}% vs {SFNChange3.mean()}% , pvalue {ttest_ind(SHAMChange3,SFNChange3).pvalue}') "
   ]
  },
  {
   "cell_type": "code",
   "execution_count": 21,
   "id": "67f327e5",
   "metadata": {},
   "outputs": [
    {
     "name": "stdout",
     "output_type": "stream",
     "text": [
      "Mean: 60.352271716641425% vs 6.5270325039521255% , pvalue 1.1149195759090945e-11\n"
     ]
    }
   ],
   "source": [
    "print(f'Mean: {VehicalChange3.mean()}% vs {SFN_NPsChange3.mean()}% , pvalue {ttest_ind(VehicalChange3,SFN_NPsChange3).pvalue}') "
   ]
  },
  {
   "cell_type": "code",
   "execution_count": null,
   "id": "e04dfdf9",
   "metadata": {},
   "outputs": [],
   "source": []
  }
 ],
 "metadata": {
  "kernelspec": {
   "display_name": "Python 3 (ipykernel)",
   "language": "python",
   "name": "python3"
  },
  "language_info": {
   "codemirror_mode": {
    "name": "ipython",
    "version": 3
   },
   "file_extension": ".py",
   "mimetype": "text/x-python",
   "name": "python",
   "nbconvert_exporter": "python",
   "pygments_lexer": "ipython3",
   "version": "3.7.9"
  }
 },
 "nbformat": 4,
 "nbformat_minor": 5
}
